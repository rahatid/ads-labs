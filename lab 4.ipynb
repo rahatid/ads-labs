{
 "cells": [
  {
   "cell_type": "markdown",
   "metadata": {},
   "source": [
    "# ECS529U Algorithms and Data Structures\n",
    "# Lab sheet 4\n",
    "\n",
    "This fourth lab gets you to work with recursive algorithms and also practically compare the\n",
    "efficiency of more sorting algorithms by testing them on randomly generated arrays.\n",
    "\n",
    "**Marks (max 5):** Questions 1-3: 1 each | Questions 4-7: 0.5 each"
   ]
  },
  {
   "cell_type": "markdown",
   "metadata": {},
   "source": [
    "## Question 1\n",
    "\n",
    "Write a Python function\n",
    "   \n",
    "    def timesOccursIn(k,A)\n",
    "    \n",
    "which which takes an integer and an array of integers and returns the number of times the\n",
    "integer occurs in the array. You must use recursion and no loops for this question.\n",
    "\n",
    "For example, if its arguments are `5` and `[1,2,5,3,6,5,3,5,5,4]` the function should return `4`.\n",
    "\n",
    "_Hint:_ Suppose `A` is not empty. If the first element of `A` is in fact `k`, the number of times that `k`\n",
    "occurs in `A` is “1 + the number of times it occurs in `A[1:]`”. Otherwise, it is the same as the\n",
    "number of times it occurs in `A[1:]`. On the other hand, if `A` is the empty array `[]` then `k`\n",
    "occurs 0 times in it."
   ]
  },
  {
   "cell_type": "code",
   "execution_count": 1,
   "metadata": {},
   "outputs": [
    {
     "name": "stdout",
     "output_type": "stream",
     "text": [
      "The number of times 5 occurs in the array is: 4\n"
     ]
    }
   ],
   "source": [
    "def timesOccursIn(k, A):\n",
    "    # Base case: if the array is empty, k occurs 0 times.\n",
    "    if not A:\n",
    "        return 0\n",
    "    \n",
    "    # Recursive case:\n",
    "    # If the first element of A is equal to k, add 1 and recursively check the rest of the list.\n",
    "    # Otherwise, skip the first element and check the rest of the list.\n",
    "    if A[0] == k:\n",
    "        return 1 + timesOccursIn(k, A[1:])\n",
    "    else:\n",
    "        return timesOccursIn(k, A[1:])\n",
    "\n",
    "# Example usage:\n",
    "A = [1, 2, 5, 3, 6, 5, 3, 5, 5, 4]\n",
    "k = 5\n",
    "result = timesOccursIn(k,A)\n",
    "print(\"The number of times\", k, \"occurs in the array is:\", result)\n"
   ]
  },
  {
   "cell_type": "markdown",
   "metadata": {},
   "source": [
    "## Question 2\n",
    "Write a Python function\n",
    "\n",
    "    def multArray(A,k)\n",
    "\n",
    "which takes an array `A` of integers and an integer `k` and changes `A` by multiplying each of\n",
    "its elements by `k`. You must use recursion and no loops for this question.\n",
    "For example, if it takes the array `[5,12,31,7,25]` and the integer `10`, it changes the \n",
    "array so that it becomes `[50,120,310,70,250]`.\n",
    "\n",
    "_Hint:_ The following “solution” will not work, as each recursive call creates a new copy of A\n",
    "so the original A is not changed.\n",
    "\n",
    "    def multAllNope(k,A):\n",
    "        if A == []: return\n",
    "        A[0] = A[0]*k\n",
    "        return multAllNope(k,A[1:])        \n",
    "Instead, the trick to do this is to define an auxiliary function `multAllRec(k,A,i)` which multiplies all elements of `A[i:]` by `k`. This function can then be defined with recursion."
   ]
  },
  {
   "cell_type": "code",
   "execution_count": 5,
   "metadata": {},
   "outputs": [
    {
     "name": "stdout",
     "output_type": "stream",
     "text": [
      "Modified array: [50, 120, 310, 70, 250]\n"
     ]
    }
   ],
   "source": [
    "def multArray(A, k):\n",
    "    def multAllRec(k, A, i):\n",
    "        # Base case: If i is out of bounds, no more elements to multiply.\n",
    "        if i == len(A):\n",
    "            return\n",
    "        \n",
    "        # Multiply the current element by k.\n",
    "        A[i] *= k\n",
    "\n",
    "        # Recursively process the rest of the array.\n",
    "        multAllRec(k, A, i + 1)\n",
    "    \n",
    "    # Start the recursion from the beginning of the array.\n",
    "    multAllRec(k, A, 0)\n",
    "\n",
    "# Example usage:\n",
    "A = [5, 12, 31, 7, 25]\n",
    "k = 10\n",
    "multArray(A, k)\n",
    "print(\"Modified array:\", A)"
   ]
  },
  {
   "cell_type": "markdown",
   "metadata": {},
   "source": [
    "## Question 3\n",
    "\n",
    "Using recursion, write a Python function\n",
    "\n",
    "    def printArray(A)\n",
    "    \n",
    "that prints the elements of `A`, in order, one element per line.\n",
    "\n",
    "Now, using recursion, write a Python function\n",
    "\n",
    "    def printArrayRev(A)\n",
    "    \n",
    "that prints the elements of `A`, in reversed order, one element per line."
   ]
  },
  {
   "cell_type": "code",
   "execution_count": 4,
   "metadata": {},
   "outputs": [
    {
     "name": "stdout",
     "output_type": "stream",
     "text": [
      "Printing array in order:\n",
      "1\n",
      "2\n",
      "3\n",
      "4\n",
      "5\n",
      "Printing array in reverse order:\n",
      "5\n",
      "4\n",
      "3\n",
      "2\n",
      "1\n"
     ]
    }
   ],
   "source": [
    "def printArray(A):\n",
    "    # Base case: If the array is empty, there's nothing to print.\n",
    "    if not A:\n",
    "        return\n",
    "    \n",
    "    # Print the first element of the array.\n",
    "    print(A[0])\n",
    "    \n",
    "    # Recursively print the rest of the array.\n",
    "    printArray(A[1:])\n",
    "\n",
    "def printArrayRev(A):\n",
    "    # Base case: If the array is empty, there's nothing to print.\n",
    "    if not A:\n",
    "        return\n",
    "    \n",
    "    # Recursively print the rest of the array in reverse order.\n",
    "    printArrayRev(A[1:])\n",
    "    \n",
    "    # Print the current element after the rest is printed (reversed order).\n",
    "    print(A[0])\n",
    "\n",
    "# Example usage:\n",
    "A = [1, 2, 3, 4, 5]\n",
    "print(\"Printing array in order:\")\n",
    "printArray(A)\n",
    "print(\"Printing array in reverse order:\")\n",
    "printArrayRev(A)\n"
   ]
  },
  {
   "cell_type": "markdown",
   "metadata": {},
   "source": [
    "## Question 4\n",
    "\n",
    "Using recursion, write a Python function\n",
    "\n",
    "    def binSearch2(A,k)\n",
    "    \n",
    "which searches for `k` in `A` using binary search (see Lecture 1)."
   ]
  },
  {
   "cell_type": "code",
   "execution_count": 3,
   "metadata": {},
   "outputs": [
    {
     "name": "stdout",
     "output_type": "stream",
     "text": [
      "7 found at index 3.\n"
     ]
    }
   ],
   "source": [
    "def binSearch2(A, k):\n",
    "    def binary_search_recursive(A, k, low, high):\n",
    "        if low > high:\n",
    "            return -1  # Element not found\n",
    "        \n",
    "        mid = (low + high) // 2\n",
    "        if A[mid] == k:\n",
    "            return mid  # Element found at index mid\n",
    "        elif A[mid] < k:\n",
    "            return binary_search_recursive(A, k, mid + 1, high)\n",
    "        else:\n",
    "            return binary_search_recursive(A, k, low, mid - 1)\n",
    "    \n",
    "    return binary_search_recursive(A, k, 0, len(A) - 1)\n",
    "\n",
    "# Example usage:\n",
    "sorted_array = [1, 3, 5, 7, 9, 11, 13, 15]\n",
    "search_value = 7\n",
    "result = binSearch2(sorted_array, search_value)\n",
    "\n",
    "if result != -1:\n",
    "    print(f\"{search_value} found at index {result}.\")\n",
    "else:\n",
    "    print(f\"{search_value} not found in the array.\")\n"
   ]
  },
  {
   "cell_type": "markdown",
   "metadata": {},
   "source": [
    "## Question 5\n",
    "\n",
    "Using your solution to Question 5 from Lab 3, compare the four sorting functions we saw\n",
    "(selection, insertion, merge and quick sort) using random arrays and fill in the table below.\n",
    "For each array length, produce 5 random arrays to test the sorting functions and fill in the\n",
    "corresponding cell the average running time (in seconds) for each function. You can copy\n",
    "and paste the sorting code from the lecture slides.\n",
    "\n",
    "| array length |  10  | 100 | 1000 | 10<sup>4</sup> | 10<sup>5</sup> |\n",
    "|:------------|------|-----|------|-------|--------|\n",
    "| selection sort time (sec)| FDFDFD|     |      |       |        |                \n",
    "| insertion sort time (sec)| |     |      |       |        |                \n",
    "| merge sort time (sec)| |     |      |       |        |                \n",
    "| quicksort time (sec)| |     |      |       |        |                \n"
   ]
  },
  {
   "cell_type": "code",
   "execution_count": 13,
   "metadata": {},
   "outputs": [
    {
     "name": "stdout",
     "output_type": "stream",
     "text": [
      "time taken to sort array size:  1  using  selectionSort is  2.384185791015625e-06\n",
      "time taken to sort array size:  1  using  insertionSort is  1.1920928955078125e-06\n",
      "time taken to sort array size:  1  using  mergeSort is  7.152557373046875e-07\n",
      "time taken to sort array size:  1  using  quickSort is  1.430511474609375e-06\n",
      "time taken to sort array size:  10  using  selectionSort is  9.059906005859375e-06\n",
      "time taken to sort array size:  10  using  insertionSort is  2.86102294921875e-06\n",
      "time taken to sort array size:  10  using  mergeSort is  2.1457672119140625e-05\n",
      "time taken to sort array size:  10  using  quickSort is  3.552436828613281e-05\n",
      "time taken to sort array size:  100  using  selectionSort is  0.00037860870361328125\n",
      "time taken to sort array size:  100  using  insertionSort is  1.71661376953125e-05\n",
      "time taken to sort array size:  100  using  mergeSort is  0.0002586841583251953\n",
      "time taken to sort array size:  100  using  quickSort is  0.0003705024719238281\n"
     ]
    }
   ],
   "source": [
    "import random\n",
    "import time\n",
    "\n",
    "def randomIntArray(length, max_value):\n",
    "    return [random.randint(1, max_value) for _ in range(length)]\n",
    "\n",
    "def sortTimeUsing(sortf, A):\n",
    "    start_time = time.time()\n",
    "    sorted_array = sortf(A)\n",
    "    end_time = time.time()\n",
    "    elapsed_time = end_time - start_time\n",
    "    print(\"time taken to sort array size: \" ,len(A), \" using \", sortf.__name__, \"is \" , elapsed_time)\n",
    "    return elapsed_time\n",
    "\n",
    "def selectionSort(arr):\n",
    "    n = len(arr)\n",
    "    for i in range(n):\n",
    "        min_index = i\n",
    "        for j in range(i+1, n):\n",
    "            if arr[j] < arr[min_index]:\n",
    "                min_index = j\n",
    "        arr[i], arr[min_index] = arr[min_index], arr[i]\n",
    "    return arr\n",
    "\n",
    "def mergeSort(A):\n",
    "    if len(A) <= 1:\n",
    "        return\n",
    "    mid = len(A) // 2\n",
    "    half1 = A[:mid]\n",
    "    half2 = A[mid:]\n",
    "    mergeSort(half1)\n",
    "    mergeSort(half2)\n",
    "    merge(half1, half2, A)\n",
    "\n",
    "def merge(h1, h2, A):\n",
    "    i = 0\n",
    "    j1 = 0\n",
    "    j2 = 0\n",
    "    while j1 < len(h1) and j2 < len(h2):\n",
    "        if h1[j1] < h2[j2]:\n",
    "            A[i] = h1[j1]\n",
    "            j1 += 1\n",
    "            i += 1\n",
    "        else:\n",
    "            A[i] = h2[j2]\n",
    "            j2 += 1\n",
    "            i += 1\n",
    "    while j1 < len(h1):\n",
    "        A[i] = h1[j1]\n",
    "        j1 += 1\n",
    "        i += 1\n",
    "    while j2 < len(h2):\n",
    "        A[i] = h2[j2]\n",
    "        j2 += 1\n",
    "        i += 1\n",
    "\n",
    "def insertionSort(arr):\n",
    "    for i in range(1, len(arr)):\n",
    "        key = arr[i]\n",
    "        j = i - 1\n",
    "        while j >= 0 and key < arr[j]:\n",
    "            arr[j + 1] = arr[j]\n",
    "            j -= 1\n",
    "        arr[j + 1] = key\n",
    "    return arr\n",
    "\n",
    "def quickSort(A):\n",
    "    quickSortRec(A, 0, len(A))\n",
    "\n",
    "def quickSortRec(A, lo, hi):\n",
    "    if hi - lo <= 1:\n",
    "        return\n",
    "    iPivot = partition(A, lo, hi)\n",
    "    quickSortRec(A, lo, iPivot)\n",
    "    quickSortRec(A, iPivot + 1, hi)\n",
    "\n",
    "def partition(A, lo, hi):\n",
    "    pivot = A[lo]\n",
    "    B = [0 for i in range(lo, hi)]\n",
    "    loB = 0\n",
    "    hiB = len(B) - 1\n",
    "    for i in range(lo + 1, hi):\n",
    "        if A[i] < pivot:\n",
    "            B[loB] = A[i]\n",
    "            loB += 1\n",
    "        else:\n",
    "            B[hiB] = A[i]\n",
    "            hiB -= 1\n",
    "    B[loB] = pivot\n",
    "    for i in range(len(B)):\n",
    "        A[lo + i] = B[i]\n",
    "    return lo + loB\n",
    "\n",
    "tests = (randomIntArray(i, 10) for i in [1, 10, 100])\n",
    "for A in tests:\n",
    "    #selectionSortTime =\n",
    "    sortTimeUsing(selectionSort, A)\n",
    "    #print(f\"Time taken to selectionSort is: {selectionSortTime}\")\n",
    "    #insertionSortTime =\n",
    "    sortTimeUsing(insertionSort, A)\n",
    "    #print(f\"Time taken to insertionSort is {insertionSortTime}\")\n",
    "    #mergeSortTime =\n",
    "    sortTimeUsing(mergeSort, A)\n",
    "    #print(f\"Time taken to mergeSort is {mergeSortTime}\")\n",
    "    #quickSortTime = \n",
    "    sortTimeUsing(quickSort, A)\n",
    "    #print(f\"Time taken to quickSort is {quickSortTime}\")\n"
   ]
  },
  {
   "cell_type": "markdown",
   "metadata": {},
   "source": [
    "## Question 6\n",
    "\n",
    "Consider this `Script` class:\n",
    "    \n",
    "    class Script:\n",
    "        def __init__(self, sid, mark):\n",
    "            self.sid = sid\n",
    "            self.mark = mark\n",
    "        \n",
    "        def __str__(self):\n",
    "            return \"Script\"+str((self.sid,self.mark))    \n",
    "\n",
    "Using recursion, write a Python function\n",
    "\n",
    "    def filter(A,f)\n",
    "    \n",
    "which takes an array `A` of `Script` objects and a function `f` that takes a `Script` as input and returns a boolean. We call such a function a _filter_ as it allows us to filter `A` as follows. `filter(A,f)` should return a new array of `Script`'s\n",
    "which consists of those `Script`'s in `A` who \"pass\" the filter `f`, that is, when `f` is applied to those `Script`'s it returns `True`. The order of elements in the new array should be the same as in `A` (excluding filtered-out elements).\n",
    "\n",
    "For example, the following code (see also Question 3)\n",
    "\n",
    "    def passes(s):\n",
    "        return s.mark>=40\n",
    "\n",
    "    A = [Script(0,0), Script(1000,57), Script(2000,63), Script(3000,34), Script(4000,79), Script(5000,22), Script(6000,17), Script(7000,40), Script(8000,39), Script(9000,96)]\n",
    "    printArray(filter(A,passes))\n",
    "\n",
    "should return\n",
    "\n",
    "    Script(1000, 57)\n",
    "    Script(2000, 63)\n",
    "    Script(4000, 79)\n",
    "    Script(7000, 40)\n",
    "    Script(9000, 96)\n",
    "\n",
    "You can use the `append` method we defined in earlier weeks (even if not recursive)."
   ]
  },
  {
   "cell_type": "code",
   "execution_count": 1,
   "metadata": {},
   "outputs": [
    {
     "name": "stdout",
     "output_type": "stream",
     "text": [
      "Script(1000, 57)\n",
      "Script(2000, 63)\n",
      "Script(4000, 79)\n",
      "Script(7000, 40)\n",
      "Script(9000, 96)\n"
     ]
    }
   ],
   "source": [
    "class Script:\n",
    "    def __init__(self, sid, mark):\n",
    "        self.sid = sid\n",
    "        self.mark = mark\n",
    "    \n",
    "    def __str__(self):\n",
    "        return \"Script\" + str((self.sid, self.mark))\n",
    "\n",
    "def filter(A, f):\n",
    "    # Base case: If the array is empty, return an empty list.\n",
    "    if not A:\n",
    "        return []\n",
    "\n",
    "    # Check if the first Script object passes the filter function.\n",
    "    if f(A[0]):\n",
    "        # If it passes, keep the first element and recursively filter the rest.\n",
    "        return [A[0]] + filter(A[1:], f)\n",
    "    else:\n",
    "        # If it doesn't pass, skip the first element and recursively filter the rest.\n",
    "        return filter(A[1:], f)\n",
    "\n",
    "# Example usage:\n",
    "def passes(s):\n",
    "    return s.mark >= 40\n",
    "\n",
    "A = [Script(0, 0), Script(1000, 57), Script(2000, 63), Script(3000, 34), Script(4000, 79),\n",
    "     Script(5000, 22), Script(6000, 17), Script(7000, 40), Script(8000, 39), Script(9000, 96)]\n",
    "\n",
    "filtered_A = filter(A, passes)\n",
    "\n",
    "# Print the filtered array\n",
    "for script in filtered_A:\n",
    "    print(script)\n"
   ]
  },
  {
   "cell_type": "markdown",
   "metadata": {},
   "source": [
    "## Question 7\n",
    "\n",
    "Write a Python function\n",
    "\n",
    "    def isSubArray(A,B)\n",
    "    \n",
    "which takes two arrays and returns `True` if the first array is a (contiguous) subarray of the\n",
    "second array, otherwise it returns `False`. You may solve this problem using recursion or\n",
    "iteration or a mixture of recursion and iteration.\n",
    "\n",
    "For an array to be a subarray of another, it must occur entirely within the other one without\n",
    "other elements in between. For example:\n",
    "- `[31,7,25]` is a subarray of `[10,20,26,31,7,25,40,9]`\n",
    "- `[26,31,25,40]` is not a subarray of `[10,20,26,31,7,25,40,9]`\n",
    "\n",
    "_Hint_: A good way of solving this problem is to make use of an auxiliary function that takes\n",
    "two arrays and returns True if the contents of the first array occur at the front of the second\n",
    "array, otherwise it returns False. Then, A is a subarray of B if it occurs at the front of B, or at the front of B[1:], or at the front of B[2:], etc. Note you should not use A == B for arrays."
   ]
  },
  {
   "cell_type": "code",
   "execution_count": 9,
   "metadata": {},
   "outputs": [
    {
     "name": "stdout",
     "output_type": "stream",
     "text": [
      "A is not a subarray of B\n"
     ]
    },
    {
     "data": {
      "text/plain": [
       "False"
      ]
     },
     "execution_count": 9,
     "metadata": {},
     "output_type": "execute_result"
    }
   ],
   "source": [
    "def isSubArray(A, B):\n",
    "    def isSubArrayAtFront(A, B, start):\n",
    "        # Check if A is a subarray of B starting from position 'start'.\n",
    "        for i in range(len(A)):\n",
    "            if B[start + i] != A[i]:\n",
    "                return False\n",
    "        return True\n",
    "\n",
    "    # Iterate through different starting positions in B to check for subarrays.\n",
    "    for i in range(len(B) - len(A) + 1):\n",
    "        if isSubArrayAtFront(A, B, i):\n",
    "            return True\n",
    "\n",
    "    return False\n",
    "\n",
    "# Example usage:\n",
    "A = [66]\n",
    "B = [10, 20, 26, 31, 7, 25, 40, 9]\n",
    "\n",
    "result = isSubArray(A, B)\n",
    "\n",
    "if result:\n",
    "    print(\"A is a subarray of B true\")\n",
    "else:\n",
    "    print(\"A is not a subarray of B\")\n",
    "\n",
    "isSubArray(A,B)\n",
    "\n"
   ]
  },
  {
   "cell_type": "code",
   "execution_count": null,
   "metadata": {},
   "outputs": [],
   "source": []
  }
 ],
 "metadata": {
  "kernelspec": {
   "display_name": "Python 3 (ipykernel)",
   "language": "python",
   "name": "python3"
  },
  "language_info": {
   "codemirror_mode": {
    "name": "ipython",
    "version": 3
   },
   "file_extension": ".py",
   "mimetype": "text/x-python",
   "name": "python",
   "nbconvert_exporter": "python",
   "pygments_lexer": "ipython3",
   "version": "3.10.13"
  }
 },
 "nbformat": 4,
 "nbformat_minor": 4
}
