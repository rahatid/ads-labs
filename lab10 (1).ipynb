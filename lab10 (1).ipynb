{
 "cells": [
  {
   "cell_type": "markdown",
   "metadata": {},
   "source": [
    "# ECS529U Algorithms and Data Structures                  \n",
    "# Lab sheet 10\n",
    "\n",
    "This lab gets you to work with dynamic programming algorithms and also practically \n",
    "compare their efficiency by testing them on randomly generated inputs. \n",
    "\n",
    "**Marks (max 5):**  Questions 1-5: 1 each"
   ]
  },
  {
   "cell_type": "markdown",
   "metadata": {
    "collapsed": false,
    "jupyter": {
     "outputs_hidden": false
    }
   },
   "source": [
    "## Question 1\n",
    "\n",
    "We define the Thribonacci sequence of numbers by the following function _thrib_:\n",
    "\n",
    "- _thrib_(0) = 2\n",
    "- _thrib_(1) = 1\n",
    "- _thrib_(2) = 0\n",
    "- _thrib_(n) = 3 _thrib_(n-1) + 2 _thrib_(n-2) + _thrib_(n-3) ,  if n > 2\n",
    "\n",
    "Write a recursive Python function \n",
    "\n",
    "    def thrib(n)\n",
    "    \n",
    "that, on input `n`, returns _thrib_(`n`). \n",
    "\n",
    "Then, change your function into a dynamic programming one: \n",
    "\n",
    "    def thribDP(n)\n",
    "\n",
    "using memoisation."
   ]
  },
  {
   "cell_type": "code",
   "execution_count": 2,
   "metadata": {
    "ExecuteTime": {
     "end_time": "2023-12-11T21:51:33.154235Z",
     "start_time": "2023-12-11T21:51:33.147298Z"
    },
    "collapsed": false,
    "jupyter": {
     "outputs_hidden": false
    }
   },
   "outputs": [],
   "source": [
    "def thrib(n):\n",
    "    if n == 0:\n",
    "        return 2\n",
    "    elif n == 1:\n",
    "        return 1\n",
    "    elif n == 2:\n",
    "        return 0\n",
    "    else:\n",
    "        return 3 * thrib(n - 1) + 2 * thrib(n - 2) + thrib(n - 3)\n",
    "    \n",
    "    \n",
    "def thribDP(n):\n",
    "   \n",
    "    dp = [-1] * (n + 1)\n",
    "\n",
    " \n",
    "    dp[0] = 2\n",
    "    dp[1] = 1\n",
    "    dp[2] = 0\n",
    "\n",
    "   \n",
    "    for i in range(3, n + 1):\n",
    "        dp[i] = 3 * dp[i - 1] + 2 * dp[i - 2] + dp[i - 3]\n",
    "\n",
    "    return dp[n]\n",
    "\n"
   ]
  },
  {
   "cell_type": "markdown",
   "metadata": {
    "collapsed": false,
    "jupyter": {
     "outputs_hidden": false
    }
   },
   "source": [
    "## Question 2\n",
    "\n",
    "Change your DP function from Question 1 into a dynamic programming bottom-up one:\n",
    "\n",
    "    def thribDPBU(n)\n",
    "\n",
    "using iteration"
   ]
  },
  {
   "cell_type": "code",
   "execution_count": null,
   "metadata": {
    "collapsed": false,
    "jupyter": {
     "outputs_hidden": false
    }
   },
   "outputs": [],
   "source": [
    "def thribDPBU(n):\n",
    "    if n == 0:\n",
    "        return 2\n",
    "    elif n == 1:\n",
    "        return 1\n",
    "    elif n == 2:\n",
    "        return 0\n",
    "\n",
    "\n",
    "    dp = [0] * (n + 1)\n",
    "\n",
    "    dp[0] = 2\n",
    "    dp[1] = 1\n",
    "    dp[2] = 0\n",
    "\n",
    "\n",
    "    for i in range(3, n + 1):\n",
    "        dp[i] = 3 * dp[i - 1] + 2 * dp[i - 2] + dp[i - 3]\n",
    "\n",
    "    return dp[n]\n"
   ]
  },
  {
   "cell_type": "markdown",
   "metadata": {},
   "source": [
    "# Question 3\n",
    "\n",
    "Write Python functions:\n",
    "\n",
    "    def coinSplitTime(n)\n",
    "    def coinSplitDPTime(n)\n",
    "    def coinSplitDPBUTime(n)\n",
    "    \n",
    "that run `coinSplit(n)`, `coinSplitDP(n)` and `coinSplitDPBU(n)` respectively on input `n` \n",
    "and return the time taken for each of them to return. \n",
    "\n",
    "Test your timing functions on values 10, 100, 1000, 10000 for `n` and fill in the next table. \n",
    "\n",
    "Use these two choices for `coin`:\n",
    "\n",
    "1. `coin1 = [200, 100, 50, 20, 5, 2, 1]`            \n",
    "2. `coin2 = [200, 199, 198, ..., 3, 2, 1]`\n",
    "\n",
    "To avoid waiting forever, if a run takes more than e.g. 15 seconds then kill it and fill in \"timeout\" in the table. **Note you need to fill in the table to get marks in this question!**\n",
    "\n",
    "| value n/ coin array  |  10/ coin1 | 100/ coin1 | 1000/ coin1 | 10000/ coin1 | 10/ coin2 | 100/ coin2 | 1000/ coin2 | 10000/ coin2 |\n",
    "|:------------|------|-----|------|-------|--------|--------|--------|--------|\n",
    "| coinSplit time (sec)| |     |      |       |        | |||               \n",
    "| coinSplitDP time (sec)| |     |      |       |        ||||                \n",
    "| coinSplitDPBU time (sec)| |     |      |       |        ||||                "
   ]
  },
  {
   "cell_type": "code",
   "execution_count": 18,
   "metadata": {
    "ExecuteTime": {
     "end_time": "2023-12-11T22:08:54.739818Z",
     "start_time": "2023-12-11T22:08:53.356179Z"
    },
    "collapsed": false,
    "jupyter": {
     "outputs_hidden": false
    }
   },
   "outputs": [
    {
     "name": "stdout",
     "output_type": "stream",
     "text": [
      "| value n/ coin array  |  10/ coin1 | 100/ coin1 | 1000/ coin1 | 10000/ coin1 | 10/ coin2 | 100/ coin2 | 1000/ coin2 | 10000/ coin2 |\n",
      "|:------------|------|-----|------|-------|--------|--------|--------|--------|\n",
      "| coinSplitDP time (sec)| 0.000008 | 0.000007 | 0.000022 | 0.000064 |\n",
      "|:------------|------|-----|------|-------|--------|--------|--------|--------|\n",
      "| coinSplitDP time (sec)| 0.000025 | 0.000052 | 0.000281 | 0.000898 |\n",
      "|:------------|------|-----|------|-------|--------|--------|--------|--------|\n",
      "| coinSplitDP time (sec)| 0.000432 | 0.000746 | 0.013373 | 0.022008 |\n",
      "|:------------|------|-----|------|-------|--------|--------|--------|--------|\n",
      "| coinSplitDP time (sec)| 0.005451 | 0.033829 | 0.160582 | 1.165103 |\n"
     ]
    }
   ],
   "source": [
    "import time\n",
    "\n",
    "def coinSplitDP(n, coins):\n",
    "    dp = [0] * (n + 1)\n",
    "    dp[0] = 1\n",
    "    for coin in coins:\n",
    "        for i in range(coin, n + 1):\n",
    "            dp[i] += dp[i - coin]\n",
    "    return dp[n]\n",
    "\n",
    "def coinSplitDPTime(n, coins):\n",
    "    start_time = time.time()\n",
    "    coinSplitDP(n, coins)\n",
    "    return time.time() - start_time\n",
    "\n",
    "\n",
    "def coinSplitDPBU(n, coins):\n",
    "    dp = [0] * (n + 1)\n",
    "    dp[0] = 1\n",
    "    for i in range(1, n + 1):\n",
    "        for coin in coins:\n",
    "            if i - coin >= 0:\n",
    "                dp[i] += dp[i - coin]\n",
    "    return dp[n]\n",
    "\n",
    "def coinSplitDPBUTime(n, coins):\n",
    "    start_time = time.time()\n",
    "    coinSplitDPBU(n, coins)\n",
    "    return time.time() - start_time\n",
    "\n",
    "coin1 = [200, 100, 50, 20, 5, 2, 1]\n",
    "coin2 = list(range(200, 0, -1))\n",
    "\n",
    "table = []\n",
    "\n",
    "for n in [10, 100, 1000, 10000]:\n",
    "    row = []\n",
    "    row.append(coinSplitDPTime(n, coin1))\n",
    "    row.append(coinSplitDPBUTime(n, coin1))\n",
    "    row.append(coinSplitDPTime(n, coin2))\n",
    "    row.append(coinSplitDPBUTime(n, coin2))\n",
    "    \n",
    "    table.append(row)\n",
    "\n",
    "# Display the table\n",
    "print(\"| value n/ coin array  |  10/ coin1 | 100/ coin1 | 1000/ coin1 | 10000/ coin1 | 10/ coin2 | 100/ coin2 | 1000/ coin2 | 10000/ coin2 |\")\n",
    "for row in table:\n",
    "    print(\"|:------------|------|-----|------|-------|--------|--------|--------|--------|\")\n",
    "    print(f\"| coinSplitDP time (sec)| {row[0]:.6f} | {row[1]:.6f} | {row[2]:.6f} | {row[3]:.6f} |\")\n"
   ]
  },
  {
   "cell_type": "markdown",
   "metadata": {},
   "source": [
    "# Question 4\n",
    "\n",
    "Similarly to Question 4 of Lecture 10, suppose we have a bag and we want to fill it with books.\n",
    "The bag can take at most `w` kilos of weight, while\n",
    "the weights of our books are given by an array\n",
    "`bkWeight` (e.g. `bkWeight[0]` is the weight of the\n",
    "first book, etc.). Each book has a value, given by an\n",
    "array `bkVal` (e.g. `bkVal[0]` is the value of the first\n",
    "book, etc.). \n",
    "\n",
    "Write a dynamic programming function\n",
    "\n",
    "    def maxBooks(w, bkWeight, bkVal)\n",
    "\n",
    "which returns a pair `(v,A)` where `v` is the maximum value of books that we can fill our bag with and `A` is an array containing the corresponding books in order (i.e. their indices). For example, the following code:\n",
    "\n",
    "    bkWeight = [1,1,3,4,6,12,33,45,50]\n",
    "    bkVal = [1,2,5,1,10,20,24,5,60]\n",
    "    print(maxBooksVal(100,bkWeight,bkVal))\n",
    "    \n",
    "should return `(112, [0, 1, 2, 5, 6, 8])`. Assume `bkWeight` is sorted. *Hint:* work as suggested in Question 6, Lecture 10."
   ]
  },
  {
   "cell_type": "code",
   "execution_count": 19,
   "metadata": {
    "ExecuteTime": {
     "end_time": "2023-12-11T22:09:33.321243Z",
     "start_time": "2023-12-11T22:09:33.302733Z"
    },
    "collapsed": false,
    "jupyter": {
     "outputs_hidden": false
    }
   },
   "outputs": [
    {
     "name": "stdout",
     "output_type": "stream",
     "text": [
      "(112, [0, 1, 2, 5, 6, 8])\n"
     ]
    }
   ],
   "source": [
    "def maxBooks(w, bkWeight, bkVal):\n",
    "    n = len(bkWeight)\n",
    "\n",
    "    \n",
    "    dp = [[0] * (w + 1) for _ in range(n + 1)]\n",
    "\n",
    "\n",
    "    for i in range(1, n + 1):\n",
    "        for weight in range(w + 1):\n",
    "            if bkWeight[i - 1] <= weight:\n",
    "                \n",
    "                dp[i][weight] = max(dp[i - 1][weight], dp[i - 1][weight - bkWeight[i - 1]] + bkVal[i - 1])\n",
    "            else:\n",
    "                \n",
    "                dp[i][weight] = dp[i - 1][weight]\n",
    "\n",
    "    \n",
    "    value = dp[n][w]\n",
    "    selected_books = []\n",
    "    i, j = n, w\n",
    "    while i > 0 and j > 0:\n",
    "        if dp[i][j] != dp[i - 1][j]:\n",
    "            selected_books.append(i - 1)\n",
    "            j -= bkWeight[i - 1]\n",
    "        i -= 1\n",
    "\n",
    "    #\n",
    "    selected_books.reverse()\n",
    "\n",
    "    return value, selected_books\n",
    "\n",
    "\n",
    "bkWeight = [1, 1, 3, 4, 6, 12, 33, 45, 50]\n",
    "bkVal = [1, 2, 5, 1, 10, 20, 24, 5, 60]\n",
    "result = maxBooks(100, bkWeight, bkVal)\n",
    "print(result)\n"
   ]
  },
  {
   "cell_type": "markdown",
   "metadata": {},
   "source": [
    "# Question 5\n",
    "\n",
    "Using dynamic programming, write a Python function: \n",
    "\n",
    "    def closestSubset(A,s)\n",
    "\n",
    "that takes an array of non-negative integers `A` and a non-negative integer `s` and returns an array consisting \n",
    "of elements of `A` (i.e. a subset of `A`) which add up to `s`. If there is no subset that adds up to `s`, the function \n",
    "should instead return a subset which adds up to the value closest to `s`. \n",
    "\n",
    "For example: \n",
    "\n",
    "- if `A` is `[12, 79, 99, 91, 81, 47]` and `s` is `150`, it will return `[12, 91, 47]` as 12+91+47 is 150\n",
    "- if `A` is `[15, 79, 99, 6, 69, 82, 32]` and `s` is `150` it will return `[69, 82]` as 69+82 is 151, and \n",
    "there is no subset of `A` whose sum is 150.\n",
    "\n",
    "In more detail, your function should use an auxiliary function:\n",
    "\n",
    "    def closestSubsetMem(A,s,lo,memo)\n",
    "    \n",
    "that returns an array consisting of elements of `A[lo:]` which add up to the closest value to `s`. To implement this function, you can use recursion as follows:\n",
    "\n",
    "- If `s` is less or equal to 0 or `lo` is beyond the bounds of `A`, then the solution is simply `[]`\n",
    "- Otherwise, we first consider the (recursive) case where element `A[lo]` is included in the selected elements (case withIt): \n",
    "\n",
    "    - if this case returns an array of elements that add up to `s` then the solution is that array\n",
    "    - otherwise, we also consider the (recursive) case where element `A[lo]` is not included in the selected elements (case withoutIt); between the returned arrays of cases withIt and withoutIt, we select the one whose elements sum up closer to `s`.\n",
    "\n",
    "Test the method with arrays generated by `randomIntArray(s,n)` from Lab 3. Try with:\n",
    "\n",
    "    A = randomIntArray(20,1000)\n",
    "    subset = closestSubset(A,5000)"
   ]
  },
  {
   "cell_type": "code",
   "execution_count": 20,
   "metadata": {
    "ExecuteTime": {
     "end_time": "2023-12-11T22:09:38.794903Z",
     "start_time": "2023-12-11T22:09:38.784159Z"
    },
    "collapsed": false,
    "jupyter": {
     "outputs_hidden": false
    }
   },
   "outputs": [
    {
     "name": "stdout",
     "output_type": "stream",
     "text": [
      "[47, 79, 12]\n",
      "[32, 6, 79, 15]\n"
     ]
    }
   ],
   "source": [
    "import math\n",
    "\n",
    "def closestSubset(A, s):\n",
    "    n = len(A)\n",
    "    memo = {}  \n",
    "    result = closestSubsetMem(A, s, 0, memo)\n",
    "    return result\n",
    "\n",
    "def closestSubsetMem(A, s, lo, memo):\n",
    "    if s <= 0 or lo >= len(A):\n",
    "        return []\n",
    "\n",
    "    if (lo, s) in memo:\n",
    "        return memo[(lo, s)]\n",
    "\n",
    "  \n",
    "    withIt = closestSubsetMem(A, s - A[lo], lo + 1, memo) + [A[lo]]\n",
    "\n",
    "    \n",
    "    withoutIt = closestSubsetMem(A, s, lo + 1, memo)\n",
    "\n",
    "\n",
    "    if sum(withIt) - s < s - sum(withoutIt):\n",
    "        result = withIt\n",
    "    else:\n",
    "        result = withoutIt\n",
    "\n",
    "    memo[(lo, s)] = result\n",
    "    return result\n",
    "\n",
    "# Example usage\n",
    "A1 = [12, 79, 99, 91, 81, 47]\n",
    "s1 = 150\n",
    "result1 = closestSubset(A1, s1)\n",
    "print(result1)\n",
    "\n",
    "A2 = [15, 79, 99, 6, 69, 82, 32]\n",
    "s2 = 150\n",
    "result2 = closestSubset(A2, s2)\n",
    "print(result2)\n"
   ]
  }
 ],
 "metadata": {
  "kernelspec": {
   "display_name": "Python 3 (ipykernel)",
   "language": "python",
   "name": "python3"
  },
  "language_info": {
   "codemirror_mode": {
    "name": "ipython",
    "version": 3
   },
   "file_extension": ".py",
   "mimetype": "text/x-python",
   "name": "python",
   "nbconvert_exporter": "python",
   "pygments_lexer": "ipython3",
   "version": "3.10.13"
  }
 },
 "nbformat": 4,
 "nbformat_minor": 4
}
