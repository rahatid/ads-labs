{
 "cells": [
  {
   "cell_type": "markdown",
   "metadata": {},
   "source": [
    "# ECS529U Algorithms and Data Structures\n",
    "# Lab sheet 1 (deadline: week 2)\n",
    "\n",
    "This first lab gets you to work with Python, the programming language that we will be usingto write algorithms in this module. Python is similar to Java in syntax, although much simpler. In this lab you will write and run your first Python programs.\n",
    "\n",
    "Look at `lab1-prep.ipynb` for examples on how to use Python commands to solve the questions.\n",
    "\n",
    "**Marks (max 5):** Questions 1-2: 1 mark | Questions 3-6: 1 mark each"
   ]
  },
  {
   "cell_type": "markdown",
   "metadata": {},
   "source": [
    "## Question 1\n",
    "\n",
    "We will be coding Python using the Jupyter IDE. You are asked to do the following:\n",
    "\n",
    "0. watch the videos or/and read the slides of Week 0\n",
    "1. if you skipped step 0, go back to step 0\n",
    "2. start Jupyter Notebook (on Jupyter Hub, your machine, or ITL) or Google Collab\n",
    "3. open `lab1-prep.ipynb` in Jupyter, read, understand and run each of its different functions"
   ]
  },
  {
   "cell_type": "markdown",
   "metadata": {},
   "source": [
    "## Question 2\n",
    "\n",
    "Write a Python function:\n",
    "```\n",
    "def check_equal(x, y, z)\n",
    "```\n",
    "which checks the values of the inputs x, y, z to see if any are equal and prints whichever one of the following applies:\n",
    "\n",
    "1. \"All three inputs are equal\"\n",
    "2. \"Only x and y are equal\"\n",
    "3. \"Only y and z are equal\"\n",
    "4. \"Only x and z are equal\"\n",
    "5. \"They are all different\"\n",
    " \n",
    "The function **also returns** the corresponding number in each case (e.g. if all equal return 1, if only x and y are equal return 2, and so on). For example, running `check_equal(42,1,42)` in Jupyter we would get:\n",
    "```\n",
    "Only x and z are equal\n",
    "4\n",
    "```\n",
    "Note : you will need to use the if-elif-else commands, and print."
   ]
  },
  {
   "cell_type": "code",
   "execution_count": 1,
   "metadata": {},
   "outputs": [
    {
     "name": "stdout",
     "output_type": "stream",
     "text": [
      "Only x and z are equal\n",
      "4\n",
      "Only x and y are equal\n",
      "2\n",
      "They are all different\n",
      "5\n",
      "All three inputs are equal\n",
      "1\n",
      "Only x and y are equal\n",
      "2\n",
      "Only y and z are equal\n",
      "3\n",
      "They are all different\n",
      "5\n"
     ]
    }
   ],
   "source": [
    "def check_equal(x,y,z):\n",
    "    # you need to fill this in\n",
    "    if x== y and y == z:\n",
    "        print (\"All three inputs are equal\")\n",
    "        return 1\n",
    "    elif x==y :\n",
    "        print (\"Only x and y are equal\")\n",
    "        return 2\n",
    "    elif y==z:\n",
    "        print(\"Only y and z are equal\")\n",
    "        return 3\n",
    "    elif x==z:\n",
    "        print (\"Only x and z are equal\")\n",
    "        return 4\n",
    "    else:\n",
    "        print (\"They are all different\")\n",
    "        return 5\n",
    "# below are some tests. NOTE: passing all the tests does NOT necassarily \n",
    "# mean that your code is correct (there could be other tests that fail)\n",
    "#\n",
    "tests = [(42,1,42),(1,1,-5),(5,4,-1),(5,5,5),(0,0,1),(-9,9,9),(9,8,90)]\n",
    "for x,y,z in tests:\n",
    "    print(check_equal(x,y,z))"
   ]
  },
  {
   "cell_type": "markdown",
   "metadata": {},
   "source": [
    "## Question 3\n",
    "\n",
    "Write a Python function:\n",
    "```\n",
    "def check_equal2()\n",
    "```\n",
    "that is a modified version of `check_equal` which sets the three variables x, y, z to values typed in by the user when the code is run, and prints and returns as `check_equal`.\n",
    "\n",
    "Note : this can be done using the built-in `input` function. You can assume that the inputs are integers."
   ]
  },
  {
   "cell_type": "code",
   "execution_count": 13,
   "metadata": {},
   "outputs": [
    {
     "name": "stdin",
     "output_type": "stream",
     "text": [
      "enter value for x 4334\n",
      "enter value for y 356467\n",
      "enter value for z 342367\n"
     ]
    },
    {
     "name": "stdout",
     "output_type": "stream",
     "text": [
      "They are all different\n"
     ]
    },
    {
     "data": {
      "text/plain": [
       "5"
      ]
     },
     "execution_count": 13,
     "metadata": {},
     "output_type": "execute_result"
    }
   ],
   "source": [
    "def check_equal2(x,y,z):\n",
    "    x=  int(input(\"enter value for x\"))\n",
    "    y=  int(input(\"enter value for y\"))\n",
    "    z=  int(input(\"enter value for z\"))\n",
    "    if x== y and y == z:\n",
    "        print (\"All three inputs are equal\")\n",
    "        return 1\n",
    "    elif x==y :\n",
    "        print (\"Only x and y are equal\")\n",
    "        return 2\n",
    "    elif y==z:\n",
    "        print(\"Only y and z are equal\")\n",
    "        return 3\n",
    "    elif x==z:\n",
    "        print (\"Only x and z are equal\")\n",
    "        return 4\n",
    "    else:\n",
    "        print (\"They are all different\")\n",
    "        return 5\n",
    "    \n",
    "check_equal2(x,y,z)\n",
    "\n",
    "# here are some possible x,y,z to test with:\n",
    "# (42,1,42),(1,1,-5),(5,4,-1),(5,5,5),(0,0,1),(-9,9,9),(9,8,90)"
   ]
  },
  {
   "cell_type": "markdown",
   "metadata": {},
   "source": [
    "## Question 4\n",
    "\n",
    "Write a Python function:\n",
    "```\n",
    "def check_equal_sums(x, y, z)\n",
    "```\n",
    "that is a modified version of `check_equal` which takes three arrays as its arguments and tests whether the sums of the contents of each of the arrays are equal.\n",
    "\n",
    "For example, if the function takes [1,2,3], [10,20,30,40] and [65,32,3] as its three arguments, in that order, it should print \"Only y and z have equal sums\" and return 3.\n",
    "\n",
    "Note : you can use a helper function that takes an array of integers and returns the result of adding them together. For example, with argument [65,32,3] the helper function would return 100.\n",
    "\n",
    "You should **not use** the built-in `sum` function."
   ]
  },
  {
   "cell_type": "code",
   "execution_count": 12,
   "metadata": {},
   "outputs": [
    {
     "name": "stdout",
     "output_type": "stream",
     "text": [
      "x and z are equasl\n",
      "3\n",
      "all three are equals\n",
      "1\n",
      "apply for f to x,y,z as they give diffrent resukts\n",
      "5\n",
      "x ans z are equals\n",
      "4\n",
      "x ans z are equals\n",
      "4\n",
      "x an y and equals\n",
      "2\n"
     ]
    }
   ],
   "source": [
    "def check_equal_sums(x,y,z):\n",
    "    a=0\n",
    "    b=0\n",
    "    c=0\n",
    "    for i in range (len(x)):\n",
    "        a+=x[i]\n",
    "    for i in range (len(y)):\n",
    "        b+=y[i]\n",
    "    for i in range (len(z)):\n",
    "        c+=z[i]\n",
    "    if (a==b and a==c):\n",
    "        print (\"all three are equals\")\n",
    "        return 1\n",
    "    elif (a==b):\n",
    "        \n",
    "        print (\"x an y and equals\")\n",
    "        return 2\n",
    "    elif (c==b):\n",
    "        print (\"x and z are equasl\")\n",
    "        return 3\n",
    "    elif (a==c):\n",
    "        print(\"x ans z are equals\")\n",
    "        return 4\n",
    "    else :\n",
    "        print (\"apply for f to x,y,z as they give diffrent resukts\")\n",
    "        return 5 \n",
    "\n",
    "\n",
    "        \n",
    "        \n",
    "        \n",
    "  \n",
    "\n",
    "# below are some tests. NOTE: passing all the tests does NOT necassarily \n",
    "# mean that your code is correct (there could be other tests that fail)\n",
    "#\n",
    "tests = [([1,2,3],[10,20,30,40],[65,32,3]),([10,20,30,40],[10,20,30,40],[65,32,3]),([1],[1,2],[1,2,3]),\n",
    "         ([],[10,20,30,40],[]),([10,20,30,40],[1,-2],[65,32,3]),([-1,-1,-1,2],[1,-2,0],[65,32,3])]\n",
    "for x,y,z in tests:\n",
    "    print(check_equal_sums(x,y,z))"
   ]
  },
  {
   "cell_type": "markdown",
   "metadata": {},
   "source": [
    "## Question 5\n",
    "\n",
    "Write a Python function:\n",
    "```\n",
    "def compare_lengths(x, y, z)\n",
    "```\n",
    "which takes as arguments three arrays and checks their lengths and returns them as a triple in order of length.\n",
    "\n",
    "For example, if the function takes [1,2,3], [10,20,30,40] and [65,32,7] as input, it should return either `([1,2,3], [65,32,7], [10,20,30,40])` or `([65,32,7], [1,2,3], [10,20,30,40])`.\n",
    "\n",
    "Note: you can use the built-in `len` function which returns the length of an array, and also use Python tuples."
   ]
  },
  {
   "cell_type": "code",
   "execution_count": 10,
   "metadata": {},
   "outputs": [
    {
     "name": "stdout",
     "output_type": "stream",
     "text": [
      "([1, 2, 3], [65, 32, 3], [10, 20, 30, 40])\n",
      "([65, 32, 3], [10, 20, 30, 40], [0, 10, 20, 30, 40])\n",
      "([1], [1, 2], [1, 2, 3])\n",
      "([], [], [10, 20, 30, 40])\n",
      "([1, -2], [65, 32, 3], [10, 20, 30, 40])\n",
      "([], [65, 32, 3], [-1, -1, -1, 2])\n"
     ]
    }
   ],
   "source": [
    "def compare_lengths(x,y,z):\n",
    "    if len (x) <=len (y):\n",
    "        if len (x) <=len (z):\n",
    "            if len (z) <= len (y):\n",
    "                return (x,z,y)\n",
    "            else :\n",
    "                return (x,y,z)\n",
    "        else :\n",
    "            return(y,x,z)\n",
    "\n",
    "    else :\n",
    "        if (len (y) <= len(z)):\n",
    "            if (len (x) <= len(z)):\n",
    "                return(y,x,z)\n",
    "            return (y,z,x)\n",
    "        return(z,y,x)\n",
    "# below are some tests. NOTE: passing all the tests does NOT necassarily \n",
    "# mean that your code is correct (there could be other tests that fail)\n",
    "#\n",
    "tests = [([1,2,3],[10,20,30,40],[65,32,3]),([0,10,20,30,40],[10,20,30,40],[65,32,3]),([1],[1,2],[1,2,3]),\n",
    "         ([],[10,20,30,40],[]),([10,20,30,40],[1,-2],[65,32,3]),([-1,-1,-1,2],[],[65,32,3])]\n",
    "for x,y,z in tests:\n",
    "    print(compare_lengths(x,y,z))"
   ]
  },
  {
   "cell_type": "markdown",
   "metadata": {},
   "source": [
    "## Question 6\n",
    "\n",
    "In Python a variable can be set to refer to a function, which also means a function can be passed as an argument to another function. Write a Python function:\n",
    "```\n",
    "def check_equal_fun(f, x, y, z)\n",
    "```\n",
    "that is a modified version of `check_equal` which takes four arguments, one being a function and the rest being three values. The function should print whichever one of the following applies:\n",
    "\n",
    "1. \"Applying f to all three values gives the same result\"\n",
    "2. \"Only applying f to x and y gives the same result\"\n",
    "3. \"Only applying f to y and z gives the same result\"\n",
    "4. \"Only applying f to x and z gives the same result\"\n",
    "5. \"Applying f to x,y,z gives all different results\"\n",
    "\n",
    "and return the corresponding number. Observe that `check_equal_fun` should work like `check_equal_sums` if the helper function in Question 4 is given as first argument.\n",
    "\n",
    "Another example is the following. Let `fst` be the function that returns the first element of an array (if there is one):\n",
    "```\n",
    "def fst(A):\n",
    "    return A[0]\n",
    "```\n",
    "Then, e.g. `check_equal_fun(fst,[1,2,3],[2,1,3],[3,2,1])` should print \"Applying f to x,y,z gives all different results\" and return 5."
   ]
  },
  {
   "cell_type": "code",
   "execution_count": 11,
   "metadata": {},
   "outputs": [
    {
     "name": "stdout",
     "output_type": "stream",
     "text": [
      "Applying f to x,y,z gives all different results\n"
     ]
    },
    {
     "data": {
      "text/plain": [
       "5"
      ]
     },
     "execution_count": 11,
     "metadata": {},
     "output_type": "execute_result"
    }
   ],
   "source": [
    "# write your answer here\n",
    "def check_equal_fun(f, x, y, z):\n",
    "    if f(x) == f(y) and f(y) == f(z):\n",
    "        print (\"Applying f to all three values gives the same result\")\n",
    "        return 1\n",
    "    elif f(x)==f(y) :\n",
    "        print (\"Only applying f to x and y gives the same result\")\n",
    "        return 2\n",
    "    elif f(y)==f(z):\n",
    "        print(\"Only applying f to y and z gives the same result\")\n",
    "        return 3\n",
    "    elif f(x)==f(z):\n",
    "        print (\"Only applying f to x and z gives the same result\")\n",
    "        return 4\n",
    "    else:\n",
    "        print (\"Applying f to x,y,z gives all different results\")\n",
    "        return 5\n",
    "def fst(A):\n",
    "    return A[0]\n",
    "check_equal_fun(fst,[1,2,3],[2,1,3],[3,2,1])\n",
    "    \n",
    "    \n",
    "  \n",
    "# and then TEST it using tests of your own!"
   ]
  },
  {
   "cell_type": "code",
   "execution_count": null,
   "metadata": {},
   "outputs": [],
   "source": []
  }
 ],
 "metadata": {
  "kernelspec": {
   "display_name": "Python 3 (ipykernel)",
   "language": "python",
   "name": "python3"
  },
  "language_info": {
   "codemirror_mode": {
    "name": "ipython",
    "version": 3
   },
   "file_extension": ".py",
   "mimetype": "text/x-python",
   "name": "python",
   "nbconvert_exporter": "python",
   "pygments_lexer": "ipython3",
   "version": "3.10.13"
  }
 },
 "nbformat": 4,
 "nbformat_minor": 4
}
